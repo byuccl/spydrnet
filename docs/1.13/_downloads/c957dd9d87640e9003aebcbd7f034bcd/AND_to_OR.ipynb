{
  "cells": [
    {
      "cell_type": "markdown",
      "metadata": {},
      "source": [
        "\n# Modify Netlist with SpyDrNet\n\nThis example shows how SpyDrNet can parse in a netlist, modify it, and compose a new netlist.\n\nThe script parses in a simple example netlist that is just an AND gate implemented with a LUT. The instance of the LUT2 primitive definition is found, and then the properties of it are modified to change the configuration of the LUT.\n\nBelow are tables of an AND gate and an OR gate. A LUT is configured by setting the ``'value':'<LUT_configuation>'`` pair in the metadata ``[EDIF.properties]`` dictionary associated with the LUT2 instance. The ``'<LUT_configuration>'`` string is composed from the output of an n-input truth table in hexadecimal. Below is a demonstration of how to determine the ``'<LUT_configuration>'`` string.\n\n+-----------+\n| AND gate  |\n+---+---+---+\n| A | B | Q |\n+===+===+===+\n| 0 | 0 | 0 |\n+---+---+---+\n| 0 | 1 | 0 |\n+---+---+---+\n| 1 | 0 | 0 |\n+---+---+---+\n| 1 | 1 | 1 |\n+---+---+---+\n\nThe output Q for the AND gate is the following: ``Q = 4'b1000``, or in hexadecimal, ``Q=4'h8``. Replace '<LUT_configuration>' with ``'4'h8'``\n\n+-----------+\n| OR gate   |\n+---+---+---+\n| A | B | Q |\n+===+===+===+\n| 0 | 0 | 0 |\n+---+---+---+\n| 0 | 1 | 1 |\n+---+---+---+\n| 1 | 0 | 1 |\n+---+---+---+\n| 1 | 1 | 1 |\n+---+---+---+\n\nThe output Q for the OR gate is the following: ``Q = 4'b1110``, or in hexadecimal, ``Q=4'hE``.\n\nThe netlist example that is loaded in has a LUT configured to be an AND gate, but with SpyDrNet, you can modify that LUT to be something else. The LUT configuration ``'4'h8'`` (an AND gate) for the LUT in the netlist will be changed to ``'4'hE'`` (an OR gate) in this example.\n\nAfter making this configuration, the new netlist will be composed twice, showing that SpyDrNet can either create an EDIF netlist file or a Verilog netlist file that both represent the same netlist.\n"
      ]
    },
    {
      "cell_type": "code",
      "execution_count": null,
      "metadata": {
        "collapsed": false
      },
      "outputs": [],
      "source": [
        "import spydrnet as sdn\n\n\n# Change this line to change the configuration of the LUT in the design.\nLUT_CONFIG = 0xE\n\nlogic_gate_netlist = sdn.load_example_netlist_by_name(\"AND_gate\")\n\n# Alternatively you can parse in your own netlist by changing the line below.\n# logic_gate_netlist = sdn.parse('<my_netlist.edf>')\n\n\n# Find the LUT2 definition\nfor definition in logic_gate_netlist.get_definitions():\n    if definition.name == \"LUT2\":\n        lut_instances = definition.references\n        # Once the LUT2 definition has been found, go through its instances\n        for instance in lut_instances:\n            properties = instance[\"EDIF.properties\"]\n            # Change the value in the properties of the LUT2 instance\n            properties[0][\"value\"] = \"4'h\" + str(hex(LUT_CONFIG)).upper()[2:]\n\n# The netlist is composed into both an EDIF file and also in a Verliog file\nsdn.compose(logic_gate_netlist, \"OR_gate.edf\")\nsdn.compose(logic_gate_netlist, \"OR_gate.v\")"
      ]
    }
  ],
  "metadata": {
    "kernelspec": {
      "display_name": "Python 3",
      "language": "python",
      "name": "python3"
    },
    "language_info": {
      "codemirror_mode": {
        "name": "ipython",
        "version": 3
      },
      "file_extension": ".py",
      "mimetype": "text/x-python",
      "name": "python",
      "nbconvert_exporter": "python",
      "pygments_lexer": "ipython3",
      "version": "3.8.10"
    }
  },
  "nbformat": 4,
  "nbformat_minor": 0
}