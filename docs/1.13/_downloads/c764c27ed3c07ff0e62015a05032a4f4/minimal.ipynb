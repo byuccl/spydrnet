{
  "cells": [
    {
      "cell_type": "markdown",
      "metadata": {},
      "source": [
        "\n# Minimal Script\n\nBuilds a netlist from scratch\n"
      ]
    },
    {
      "cell_type": "code",
      "execution_count": null,
      "metadata": {
        "collapsed": false
      },
      "outputs": [],
      "source": [
        "import spydrnet as sdn\n\nnetlist = sdn.Netlist(name='netlist')\n\n# initializing working library\nlibrary = netlist.create_library(name='work')\n\n# initializing definition widget\ndef_widget = library.create_definition(name='widget')\nnetlist.set_top_instance(def_widget, instance_name='widget')\nport_a = def_widget.create_port(name='A', direction=sdn.IN)\nport_widget_b = def_widget.create_port(name='B', direction=sdn.IN)\nport_widget_c = def_widget.create_port(name='C', direction=sdn.IN)\nport_widget_d = def_widget.create_port(name='D', direction=sdn.IN)\nport_o = def_widget.create_port(name='O', direction=sdn.OUT)\n\npin_widget_a = port_a.create_pin()\npin_widget_b = port_widget_b.create_pin()\npin_widget_c = port_widget_c.create_pin()\npin_widget_d = port_widget_d.create_pin()\npin_widget_o = port_o.create_pin()\n\n# creating the cables for module widget\ncable_a = def_widget.create_cable(name='A')\ncable_b = def_widget.create_cable(name='B')\ncable_c = def_widget.create_cable(name='C')\ncable_d = def_widget.create_cable(name='D')\ncable_q_1 = def_widget.create_cable(name='Q1')\ncable_q_2 = def_widget.create_cable(name='Q2')\ncable_o = def_widget.create_cable(name='O')\n\n# creating the wires for widget\nwire_a = cable_a.create_wire()\nwire_b = cable_b.create_wire()\nwire_c = cable_c.create_wire()\nwire_d = cable_d.create_wire()\nwire_q_1 = cable_q_1.create_wire()\nwire_q_2 = cable_q_2.create_wire()\nwire_o = cable_o.create_wire()\n\n\n# initializing definition AND2\ndef_and2 = library.create_definition(name='AND2')\nport_and2_a = def_and2.create_port(name='A', direction=sdn.IN)\nport_and2_b = def_and2.create_port(name='B', direction=sdn.IN)\nport_and2_q = def_and2.create_port(name='Q', direction=sdn.OUT)\n\npin_and2_a = port_and2_a.create_pin()\npin_and2_b = port_and2_b.create_pin()\npin_and2_q = port_and2_q.create_pin()\n\n# create two instances of AND2 which resides in widget\ninst_and2_1 = def_widget.create_child(name='and2_1', reference=def_and2)\ninst_and2_2 = def_widget.create_child(name='and2_2', reference=def_and2)\n\n# initializing definition OR2\ndef_or2 = library.create_definition(name='OR2')\nport_or2_a = def_or2.create_port(name='A', direction=sdn.IN)\nport_or2_b = def_or2.create_port(name='B', direction=sdn.IN)\nport_or2_q = def_or2.create_port(name='Q', direction=sdn.OUT)\n\npin_or2_a = port_or2_a.create_pin()\npin_or2_b = port_or2_b.create_pin()\npin_or2_q = port_or2_q.create_pin()\n\n# create an instance of OR2 which resides in widget\ninst_or2 = def_widget.create_child(name='or2', reference=def_or2)\n\n\n# connect all the pins\nwire_a.connect_pin(pin_widget_a)\nwire_a.connect_pin(inst_and2_1.pins[pin_and2_a])\nwire_b.connect_pin(pin_widget_b)\nwire_b.connect_pin(inst_and2_1.pins[pin_and2_b])\nwire_q_1.connect_pin(inst_and2_1.pins[pin_and2_q])\nwire_c.connect_pin(pin_widget_c)\nwire_c.connect_pin(inst_and2_2.pins[pin_and2_a])\nwire_d.connect_pin(pin_widget_d)\nwire_d.connect_pin(inst_and2_2.pins[pin_and2_b])\nwire_q_2.connect_pin(inst_and2_2.pins[pin_and2_q])\n\nwire_q_1.connect_pin(inst_or2.pins[pin_or2_a])\nwire_q_2.connect_pin(inst_or2.pins[pin_or2_b])\nwire_o.connect_pin(pin_widget_o)\nwire_o.connect_pin(inst_or2.pins[pin_or2_q])\n\ntemp = next(netlist.libraries[0].get_instances(\"and2_1\"),None)  \nprint(\"Instance:\",temp.name)  \nprint(\"Reference:\",temp.reference.name)  \nprint(\"Parent:\",temp.parent.name)  \n\nsdn.compose(netlist, 'test.edf')"
      ]
    }
  ],
  "metadata": {
    "kernelspec": {
      "display_name": "Python 3",
      "language": "python",
      "name": "python3"
    },
    "language_info": {
      "codemirror_mode": {
        "name": "ipython",
        "version": 3
      },
      "file_extension": ".py",
      "mimetype": "text/x-python",
      "name": "python",
      "nbconvert_exporter": "python",
      "pygments_lexer": "ipython3",
      "version": "3.8.10"
    }
  },
  "nbformat": 4,
  "nbformat_minor": 0
}