{
  "cells": [
    {
      "cell_type": "markdown",
      "metadata": {},
      "source": [
        "\n# Using Built-In Primitive Libraries\n\nA simple example to demonstrate using SpyDrNet's built in primitive libraries.\n\nThe b13 example netlist is targeted towards the Xilinx 7 Series family. However, because the primitives are defined in the netlist, we must first compose it out to a new netlist that does not define the primitives.\n\nnetlist_1 is parsed in without using the built in primitive library. The output shows that the port directions are undefined.\n\nnetlist_2 is parsed in using the XILINX_7SERIES primitive library. The output shows that the port directions are defined.\n"
      ]
    },
    {
      "cell_type": "code",
      "execution_count": null,
      "metadata": {
        "collapsed": false
      },
      "outputs": [],
      "source": [
        "import spydrnet as sdn\nfrom spydrnet.util.netlist_type import VERILOG\nfrom spydrnet.util.architecture import XILINX_7SERIES\n\n\nnetlist = sdn.load_example_netlist_by_name(\"b13\", VERILOG)\nnetlist.compose(\"b13.v\", write_blackbox = False)\n\nprint(\"Without using the primitive library:\")\nnetlist_1 = sdn.parse(\"b13.v\")\nfor definition in netlist_1.get_definitions():\n    if definition is not netlist_1.top_instance.reference:\n        for port in definition.get_ports():\n            print(port.name + \" \" + str(port.direction))\n\nprint(\"\\nUsing the primitive library:\")\nnetlist_2 = sdn.parse(\"b13.v\", architecture=XILINX_7SERIES)\nfor definition in netlist_2.get_definitions():\n    if definition is not netlist_2.top_instance.reference:\n        for port in definition.get_ports():\n            print(port.name + \" \" + str(port.direction))"
      ]
    }
  ],
  "metadata": {
    "kernelspec": {
      "display_name": "Python 3",
      "language": "python",
      "name": "python3"
    },
    "language_info": {
      "codemirror_mode": {
        "name": "ipython",
        "version": 3
      },
      "file_extension": ".py",
      "mimetype": "text/x-python",
      "name": "python",
      "nbconvert_exporter": "python",
      "pygments_lexer": "ipython3",
      "version": "3.8.10"
    }
  },
  "nbformat": 4,
  "nbformat_minor": 0
}