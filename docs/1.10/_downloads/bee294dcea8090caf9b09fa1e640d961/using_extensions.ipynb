{
  "cells": [
    {
      "cell_type": "code",
      "execution_count": null,
      "metadata": {
        "collapsed": false
      },
      "outputs": [],
      "source": [
        "%matplotlib inline"
      ]
    },
    {
      "cell_type": "markdown",
      "metadata": {},
      "source": [
        "\n# Using Extensions\n\nA simple example using the spydrnet_extension module to illustrate the extension of SpyDrNet IR classes.\n\nThe .spydrnet file contains:\n\n.. code-block::\n\n    spydrnet_extension\n\nwhich extends both Element and FirstClassElement, two base classes for SpyDrNet IR objects.\n\nHere we import Element and FirstClassElement both from their respective modules and from the spydrnet.ir directory. The first will not be extended while the latter will be.\n\n.. code-block::\n    \n    from spydrnet.ir.element import Element\n    from spydrnet.ir.first_class_element import FirstClassElement\n    from spydrnet.ir import Element as ElementExtended\n    from spydrnet.ir import FirstClassElement as FirstClassElementExtended\n\nThen we list the attributes and methods found in the extended version but not in the original versions of the classes.\n\n.. code-block::\n\n    print(\"ElementExtended:\")\n    print(\"\t\",list(attribute for attribute in dir(ElementExtended) if attribute not in list(thing for thing in dir(Element))))\n    print(\"FirstClassElementExtended:\")\n    print(\"\t\",list(attribute for attribute in dir(FirstClassElementExtended) if attribute not in list(thing for thing in dir(FirstClassElement))))\n\nWe can also simply print lists of the attributes and methods found in each class. One can see that the extended class truly is extended.\n\n.. code-block::\n\n    print(\"Element: \",list(attribute for attribute in dir(Element)))\n    print(\"ElementExtened: \", list(attribute for attribute in dir(ElementExtended)))\n    print(\"\")\n    print(\"FirstClassElement: \",list(attribute for attribute in dir(FirstClassElement)))\n    print(\"FirstClassElementExtended: \",list(attribute for attribute in dir(FirstClassElementExtended)))\n\n**See full source code below**\n\n"
      ]
    },
    {
      "cell_type": "code",
      "execution_count": null,
      "metadata": {
        "collapsed": false
      },
      "outputs": [],
      "source": [
        "from spydrnet.ir.element import Element\nfrom spydrnet.ir.first_class_element import FirstClassElement\nfrom spydrnet.ir import Element as ElementExtended\nfrom spydrnet.ir import FirstClassElement as FirstClassElementExtended\n\nprint(\"ElementExtended:\")\nprint(\"\\t\",list(attribute for attribute in dir(ElementExtended) if attribute not in list(thing for thing in dir(Element))))\nprint(\"FirstClassElementExtended:\")\nprint(\"\\t\",list(attribute for attribute in dir(FirstClassElementExtended) if attribute not in list(thing for thing in dir(FirstClassElement))))\n\nprint(\"Element: \",list(attribute for attribute in dir(Element)))\nprint(\"ElementExtened: \", list(attribute for attribute in dir(ElementExtended)))\nprint(\"\")\nprint(\"FirstClassElement: \",list(attribute for attribute in dir(FirstClassElement)))\nprint(\"FirstClassElementExtended: \",list(attribute for attribute in dir(FirstClassElementExtended)))"
      ]
    }
  ],
  "metadata": {
    "kernelspec": {
      "display_name": "Python 3",
      "language": "python",
      "name": "python3"
    },
    "language_info": {
      "codemirror_mode": {
        "name": "ipython",
        "version": 3
      },
      "file_extension": ".py",
      "mimetype": "text/x-python",
      "name": "python",
      "nbconvert_exporter": "python",
      "pygments_lexer": "ipython3",
      "version": "3.6.9"
    }
  },
  "nbformat": 4,
  "nbformat_minor": 0
}