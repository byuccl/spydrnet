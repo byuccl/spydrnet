{
  "cells": [
    {
      "cell_type": "code",
      "execution_count": null,
      "metadata": {
        "collapsed": false
      },
      "outputs": [],
      "source": [
        "%matplotlib inline"
      ]
    },
    {
      "cell_type": "markdown",
      "metadata": {},
      "source": [
        "\n# Make Instances Unique\n\nCreates definitions for non-leaf instances so each instance has its own definition. Each library in both the original and the uniquified netlist will be printed along with each's definitions.\n"
      ]
    },
    {
      "cell_type": "code",
      "execution_count": null,
      "metadata": {
        "collapsed": false
      },
      "outputs": [],
      "source": [
        "import tempfile\nimport spydrnet as sdn\nimport collections\nfrom pathlib import Path\n\n\n# Check if given instance is a black box\n# instance: std.Instance to check\n# Return True if instance is a black box\n# (defined by no listed cables or child within child's reference), else return False\ndef is_black_box(instance):\n    definition = instance.reference\n    if len(definition.cables) != 0 or len(definition.children) != 0:\n        return False\n    return True\n\n\ndef increment_definition_count(definition):\n    if definition not in definition_count:\n        definition_count[definition] = 1\n    else:\n        definition_count[definition] += 1\n\n\ndef trace_definition(definition):\n    top_order = collections.deque()\n    for child in definition.children:\n        if len(child.pins) == 0:\n            return top_order\n        inner_pin = list(child.pins.keys())[0]\n        if inner_pin.wire is None:\n            continue\n        top_order.extend(trace_definition(child.reference))\n    top_order.append(definition)\n    increment_definition_count(definition)\n    return top_order\n\n\ndef get_reverse_topological_order(ir):\n    depth_first_search = collections.deque()\n    for child in top_def.children:\n        if not is_black_box(child):\n            depth_first_search.extend(trace_definition(child.reference))\n    visited = set()\n    reverse_topological_order = list()\n    while len(depth_first_search) != 0:\n        definition = depth_first_search.popleft()\n        if definition not in visited:\n            visited.add(definition)\n            reverse_topological_order.append(definition)\n    return reverse_topological_order\n\n\ndef copy_metadata(original, copy, copy_num=None):\n    for key, data in original.data.items():\n        copy[key] = data\n    if type(original) is sdn.Definition:\n        if 'EDIF.identifier' in copy.data:\n            while copy['EDIF.identifier'] + '_UNIQUE_' + str(copy_num) in definition_count:\n                copy_num += 1\n            definition_count[copy['EDIF.identifier'] +\n                             '_UNIQUE_' + str(copy_num)] = 1\n            copy['EDIF.identifier'] = copy['EDIF.identifier'] + \\\n                '_UNIQUE_' + str(copy_num)\n        if '.NAME' in copy.data:\n            copy['.NAME'] = copy['.NAME'] + '_UNIQUE_' + str(copy_num)\n\n\ndef copy_ports(original, copy):\n    for original_port in original.ports:\n        new_port = copy.create_port()\n        copy_metadata(original_port, new_port)\n        new_port.direction = original_port.direction\n        for original_inner_pin in original_port.pins:\n            original_inner_pin_to_new_inner_pin[original_inner_pin] = new_port.create_pin(\n            )\n        if hasattr(original_port, 'is_array'):\n            new_port.is_array = original_port.is_array\n        if hasattr(original_port, 'is_scalar'):\n            new_port.is_scalar = original_port.is_scalar\n\n\ndef make_instances_unique(instance):\n    if len(definition_copies[instance.reference]) == 0:\n        return\n    definition = definition_copies[instance.reference].pop()\n    # instance.reference = None\n    instance.reference = definition\n\n\ndef copy_children(original, copy):\n    for original_child in original.children:\n        new_child = copy.create_child()\n        copy_metadata(original_child, new_child)\n        new_child.reference = original_child.reference\n        for pin in original_child.pins.keys():\n            outer_pin_map[original_child.pins[pin]] = new_child.pins[pin]\n        if not is_black_box(original_child):\n            make_instances_unique(new_child)\n        instance_map[original_child] = new_child\n\n\ndef copy_cable(original, copy):\n    for original_cable in original.cables:\n        new_cable = copy.create_cable()\n        copy_metadata(original_cable, new_cable)\n        for original_wire in original_cable.wires:\n            new_wire = new_cable.create_wire()\n\n            for original_pin in original_wire.pins:\n                if isinstance(original_pin, sdn.InnerPin):\n                    new_wire.connect_pin(\n                        original_inner_pin_to_new_inner_pin[original_pin])\n                else:\n                    new_wire.connect_pin(outer_pin_map[original_pin])\n\n\ndef copy_definition(def_to_copy, def_copy, i):\n    copy_metadata(def_to_copy, def_copy, i)\n    copy_ports(def_to_copy, def_copy)\n    copy_children(def_to_copy, def_copy)\n    copy_cable(def_to_copy, def_copy)\n\n\ndef definition_clean_up(definition):\n    if definition in definition_copies:\n        for child in definition.children:\n            if child.reference in definition_copies:\n                make_instances_unique(child)\n\n\ndef make_definition_copies(def_to_copy, num_of_copies):\n    copies = dict()\n    copies[def_to_copy] = collections.deque()\n    definition_copies[def_to_copy] = list()\n    for i in range(num_of_copies):\n        def_copy = sdn.Definition()\n        copy_definition(def_to_copy, def_copy, i)\n        definition_copies[def_to_copy].append(def_copy)\n        for y in range(len(def_to_copy.library.definitions)):\n            if def_to_copy == def_to_copy.library.definitions[y]:\n                break\n        try:\n            def_to_copy.library.add_definition(def_copy, y)\n        except KeyError:\n            name = def_to_copy['EDIF.identifier']\n            message = 'Try to add a definition with name of ' + \\\n                name + 'but the name was already use'\n            raise KeyError(message)\n    definition_clean_up(def_to_copy)\n    return definition_copies\n\n\ndef clean(definition):\n    for child in definition.children:\n        if child.reference in definition_copies:\n            make_instances_unique(child)\n\n#print a list of all libraries and definitions in a netlist\ndef libraries_definitions(my_netlist):\n    for library in my_netlist.libraries:\n        definitions = list(definition.name for definition in library.definitions)\n        print(\"   DEFINITIONS IN '\",library.name,\"':\",definitions)\n\n\ndefinition_count = dict()\noriginal_inner_pin_to_new_inner_pin = dict()\ninstance_map = dict()\nouter_pin_map = dict()\ndefinition_copies = dict()\n\nexample_name = 'unique_challenge'\nir = sdn.load_example_netlist_by_name(example_name)\nir_orig = sdn.load_example_netlist_by_name(example_name) #store the original netlist for display later\ntop_def = ir.top_instance.reference\n\nreverse_topological_order = get_reverse_topological_order(ir)\nfor definition in reverse_topological_order:\n    make_definition_copies(definition, definition_count[definition] - 1)\nclean(top_def)\n\nwith tempfile.TemporaryDirectory() as td:\n    file_name = example_name + '_unique.edf'\n    sdn.compose(ir, Path(td, file_name))\n\n#show the original netlist with its definitions and the new netlist with each instance now as a unique definition\nprint(\"ORIGINAL\")\nlibraries_definitions(ir_orig)\nprint(\"UNIQUE\")\nlibraries_definitions(ir)"
      ]
    }
  ],
  "metadata": {
    "kernelspec": {
      "display_name": "Python 3",
      "language": "python",
      "name": "python3"
    },
    "language_info": {
      "codemirror_mode": {
        "name": "ipython",
        "version": 3
      },
      "file_extension": ".py",
      "mimetype": "text/x-python",
      "name": "python",
      "nbconvert_exporter": "python",
      "pygments_lexer": "ipython3",
      "version": "3.9.16"
    }
  },
  "nbformat": 4,
  "nbformat_minor": 0
}