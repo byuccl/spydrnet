{
  "cells": [
    {
      "cell_type": "code",
      "execution_count": null,
      "metadata": {
        "collapsed": false
      },
      "outputs": [],
      "source": [
        "%matplotlib inline"
      ]
    },
    {
      "cell_type": "markdown",
      "metadata": {},
      "source": [
        "\n# Four Bit Counter To Five Bit Counter\n\nExtend a four bit counter to a 5 bit counter.\n"
      ]
    },
    {
      "cell_type": "code",
      "execution_count": null,
      "metadata": {
        "collapsed": false
      },
      "outputs": [],
      "source": [
        "import spydrnet as sdn\n\n# Gets the outer_pin for a given port identifier\n# instance: sdn.Instance to find the pin on\n# identifier: The string identifier the the port we want\n# Returns associated outer_pin or None if instance\n# Note: Only works with ports of length 1\n\n\ndef get_pin(instance, identifier):\n    # Loop through each key-map pair of instance's pin\n    for inner_pin, outer_pin in instance.pins.items():\n        # Check if the port has the correct identifier\n        if inner_pin.port['EDIF.identifier'] == identifier:\n            # If port as the right identifier, return the outer_pin\n            return outer_pin\n    # Return None if instance does not have matching port\n    return None\n\n\n# Loads the example\nir = sdn.load_example_netlist_by_name(\"fourBitCounter\")\n\n# Retrieves needed libraries and definitions\nprimitives_library = next(\n    x for x in ir.libraries if x['EDIF.identifier'] == 'hdi_primitives')\nwork_library = next(x for x in ir.libraries if x['EDIF.identifier'] == 'work')\nfdce_definition = next(\n    x for x in primitives_library.definitions if x['EDIF.identifier'] == 'FDCE')\nobuf_definition = next(\n    x for x in primitives_library.definitions if x['EDIF.identifier'] == 'OBUF')\n\n# The example does not contain a needed primitive definition so we need to create it\n# Create a new definition and places it in primitives_library\nlut6_definition = primitives_library.create_definition()\n# Sets the identifier of the primitive\nlut6_definition['EDIF.identifier'] = \"LUT6\"\n# Create the input ports for the new primitive\nfor ii in range(6):\n    # Create a new port for the definition\n    input_port = lut6_definition.create_port()\n    # Sets the direction of the new port\n    input_port.direction = sdn.IN\n    # Create the pins that the new port will use\n    input_port.create_pins(1)\n    # Sets the identifier for the new port\n    input_port['EDIF.identifier'] = 'I{}'.format(ii)\n# Need to create the output port for the new primitive\n# Create a new port for the definition\noutput_port = lut6_definition.create_port()\n# Set the direction of the new port\noutput_port.direction = sdn.OUT\n# Create the pins that the new port will use\noutput_port.create_pins(1)\n# Set the identifier that the new port will use\noutput_port['EDIF.identifier'] = \"O\"\n\n# Gets the definition that represents the top module\ntop_def = ir.top_instance.reference\n\n# Create a new flip-flop instance within the top module\nff = top_def.create_child()\n# Sets the definition reference for the new instance\nff.reference = fdce_definition\n# Set the identifier for the new instance\nff['EDIF.identifier'] = 'out_reg_4_'\n# Set the original identifier for the new instance (Being use to be consistence with example)\nff['EDIF.original_identifier'] = 'out_reg[4]'\nproperties = list()\n# Create properties for the new instance\nproperties.append({'identifier': 'INIT', 'value': \"1'b0\"})\nff['EDIF.properties'] = properties\n\n# Create a new LUT6 instance within the top module\nlut6 = top_def.create_child()\n# Set the identifier for the new instance\nlut6['EDIF.identifier'] = 'out_4_lut6'\n# Set the definition reference for the new instance\nlut6.reference = lut6_definition\n# Create properties for the new instance\nproperties = [{'identifier': 'INIT', 'value': \"64'h7FFF8000FFFE0001\"}]\nlut6['EDIF.properties'] = properties\n\n# Create a new OBUF instance within the top module\nmyOBUF = top_def.create_child()\n# Set the definition reference for the new instance\nmyOBUF.reference = obuf_definition\n# Set the identifier for the new instance\nmyOBUF['EDIF.identifier'] = 'out_OBUF_4__inst'\n# Set the original identifier for the new instance (Being use to be consistence with example)\nmyOBUF['EDIF.original_identifier'] = 'out_OBUF[4]_inst'\n\n# Create variables to hold cables within the design\ninc_wire = None\nout0 = None\nout1 = None\nout2 = None\nout3 = None\nclk = None\nenable = None\nrst = None\n\n# Loop through each cable in the top module searching for specific cables\nfor cable in top_def.cables:\n    if cable['EDIF.identifier'] == 'inc_dec_IBUF':\n        inc_wire = cable.wires[0]\n    # elif cable['EDIF.identifier'] == 'out_OBUF_0_':\n    #     out0 = cable.wires[0]\n    # elif cable['EDIF.identifier'] == 'out_OBUF_1_':\n    #     out1 = cable.wires[0]\n    # elif cable['EDIF.identifier'] == 'out_OBUF_2_':\n    #     out2 = cable.wires[0]\n    # elif cable['EDIF.identifier'] == 'out_OBUF_3_':\n    #     out3 = cable.wires[0]\n    elif cable['EDIF.identifier'] == 'out_OBUF':\n        out0 = cable.wires[0]\n        out1 = cable.wires[1]\n        out2 = cable.wires[2]\n        out3 = cable.wires[3]\n\n    elif cable['EDIF.identifier'] == 'clk_IBUF_BUFG':\n        clk = cable.wires[0]\n    elif cable['EDIF.identifier'] == 'enable_IBUF':\n        enable = cable.wires[0]\n    elif cable['EDIF.identifier'] == 'rst_IBUF':\n        rst = cable.wires[0]\n\n# Connect exiting cables to the input port of the LUT6 instance\ninc_wire.connect_pin(get_pin(lut6, 'I5'))\nout0.connect_pin(get_pin(lut6, 'I0'))\nout1.connect_pin(get_pin(lut6, 'I1'))\nout2.connect_pin(get_pin(lut6, 'I2'))\nout3.connect_pin(get_pin(lut6, 'I3'))\n\n# Create a new cable for the new flip-flop output\nout4_cable = top_def.create_cable()\n# Set the identifier for the new cable\nout4_cable['EDIF.identifier'] = 'out_OBUF_4_'\nout4 = out4_cable.create_wire()\n# Connect the new cable to remaining input port of the LUT6\nout4.connect_pin(get_pin(lut6, 'I4'))\n# Connect the new cable to the output of the flip-flop\nout4.connect_pin(get_pin(ff, 'Q'))\n# Connect the new cable to the new OUBF\nout4.connect_pin(get_pin(myOBUF, 'I'))\n\n# Create a new cable for the LUT6 output\nlut_out_cable = top_def.create_cable()\n# Set the original_identifier to match existing format of similar cables\nlut_out_cable['EDIF.original_identifier'] = 'out[4]_i_1_n_0'\n# Set the identifier to match the existing format of similar cable\nlut_out_cable['EDIF.identifier'] = 'out_4__i_1_n_0'\nlut_out = lut_out_cable.create_wire()\n# Connect the new cable to the output of the LUT6\nlut_out.connect_pin(get_pin(lut6, 'O'))\n# Connect the new cable to the data port of the flip-flop\nlut_out.connect_pin(get_pin(ff, 'D'))\n\n# Connect the clk cable to the clk pin of the flip-flop\nclk.connect_pin(get_pin(ff, 'C'))\n# Connect enable cable to the clock enable pin of the flip-flop\nenable.connect_pin(get_pin(ff, 'CE'))\n# Connect the rst cable to the reset pin of the flip-flop\nrst.connect_pin(get_pin(ff, 'CLR'))\n\n# Find the output port of the top module\nout_port = next(x for x in top_def.ports if x['EDIF.identifier'] == 'out')\n# Create a another pin for the output\nport_pin = out_port.create_pin()\n# Rename the port to match number of pins\nout_port['EDIF.original_identifier'] = 'out[4:0]'\n\n# Create a new cable to drive the new output pin\nout_cable = top_def.create_cable()\nout_cable['EDIF.original_identifier'] = 'out[4]'\nout_cable['EDIF.identifier'] = 'out_4_'\nout = out_cable.create_wire()\n\n# Connect the new cable to the output of the new OBUF\nout.connect_pin(get_pin(myOBUF, 'O'))\n# Preserve what wire out is\nold_wire = out\n# Loop through each pin in the output port\nfor pin in out_port.pins:\n    # Get the wire that is connect to the pin\n    temp = pin.wire\n    # Check if there is a wire\n    if temp is not None:\n        # Disconnect the wire if connected\n        temp.disconnect_pin(pin)\n    # Connect the saved wire to the pin\n    old_wire.connect_pin(pin)\n    # Check if there was a wire\n    if temp is not None:\n        # Preserve what the wire was\n        old_wire = temp\n\nprint()\nprint(\"The counter is now a five bit counter.\")"
      ]
    }
  ],
  "metadata": {
    "kernelspec": {
      "display_name": "Python 3",
      "language": "python",
      "name": "python3"
    },
    "language_info": {
      "codemirror_mode": {
        "name": "ipython",
        "version": 3
      },
      "file_extension": ".py",
      "mimetype": "text/x-python",
      "name": "python",
      "nbconvert_exporter": "python",
      "pygments_lexer": "ipython3",
      "version": "3.9.16"
    }
  },
  "nbformat": 4,
  "nbformat_minor": 0
}