{
  "cells": [
    {
      "cell_type": "code",
      "execution_count": null,
      "metadata": {
        "collapsed": false
      },
      "outputs": [],
      "source": [
        "%matplotlib inline"
      ]
    },
    {
      "cell_type": "markdown",
      "metadata": {},
      "source": [
        "\n# Four Bit Counter To Five Bit Counter\n\n\nExtend a four bit counter to a 5 bit counter.\n"
      ]
    },
    {
      "cell_type": "code",
      "execution_count": null,
      "metadata": {
        "collapsed": false
      },
      "outputs": [],
      "source": [
        "import spydrnet as sdn\n\ndef get_pin(instance, identifier):\n    for inner_pin, outer_pin in instance.pins.items():\n        if inner_pin.port['EDIF.identifier'] == identifier:\n            return outer_pin\n    return None\n\nir = sdn.load_example_netlist_by_name(\"fourBitCounter\")\n\nprimitives_library = next(x for x in ir.libraries if x['EDIF.identifier'] == 'hdi_primitives')\nwork_library = next(x for x in ir.libraries if x['EDIF.identifier'] == 'work')\nfdce_definition = next(x for x in primitives_library.definitions if x['EDIF.identifier'] == 'FDCE')\nobuf_definition = next(x for x in primitives_library.definitions if x['EDIF.identifier'] == 'OBUF')\n\nlut6_definition = primitives_library.create_definition()\nlut6_definition['EDIF.identifier'] = \"LUT6\"\nfor ii in range(6):\n    input_port = lut6_definition.create_port()\n    input_port.direction = sdn.IN\n    input_port.create_pins(1)\n    input_port['EDIF.identifier'] = 'I{}'.format(ii)\noutput_port = lut6_definition.create_port()\noutput_port.direction = sdn.OUT\noutput_port.create_pins(1)\noutput_port['EDIF.identifier'] = \"O\"    \n\ntop_def = ir.top_instance.reference\n\nff = top_def.create_child()\nff.reference = fdce_definition\nff['EDIF.identifier'] = 'out_reg_4_'\nff['EDIF.original_identifier'] = 'out_reg[4]'\nproperties = list()\nproperties.append({'identifier': 'INIT', 'value': \"1'b0\"})\nff['EDIF.properties'] = properties\n\nlut = top_def.create_child()\nlut['EDIF.identifier'] = 'out_4_lut6'\nlut.reference = lut6_definition\nproperties = [{'identifier': 'INIT', 'value': \"64'h7FFF8000FFFE0001\"}]\nlut['EDIF.properties'] = properties\n\nmyOBUF = top_def.create_child()\nmyOBUF.reference = obuf_definition\nmyOBUF['EDIF.identifier'] = 'out_OBUF_4__inst'\nmyOBUF['EDIF.original_identifier'] = 'out_OBUF[4]_inst'\n\ninc_wire = None\nout0 = None\nout1 = None\nout2 = None\nout3 = None\nclk = None\nenable = None\nrst = None\nfor cable in top_def.cables:\n    if cable['EDIF.identifier'] == 'inc_dec_IBUF':\n        inc_wire = cable.wires[0]\n    elif cable['EDIF.identifier'] == 'out_OBUF_0_':\n        out0 = cable.wires[0]\n    elif cable['EDIF.identifier'] == 'out_OBUF_1_':\n        out1 = cable.wires[0]\n    elif cable['EDIF.identifier'] == 'out_OBUF_2_':\n        out2 = cable.wires[0]\n    elif cable['EDIF.identifier'] == 'out_OBUF_3_':\n       out3 = cable.wires[0]\n    elif cable['EDIF.identifier'] == 'clk_IBUF_BUFG':\n        clk = cable.wires[0]\n    elif cable['EDIF.identifier'] == 'enable_IBUF':\n        enable = cable.wires[0]\n    elif cable['EDIF.identifier'] == 'rst_IBUF':\n        rst = cable.wires[0]\n\ninc_wire.connect_pin(get_pin(lut, 'I5'))\nout0.connect_pin(get_pin(lut, 'I0'))\nout1.connect_pin(get_pin(lut, 'I1'))\nout2.connect_pin(get_pin(lut, 'I2'))\nout3.connect_pin(get_pin(lut, 'I3'))\n\nout4_cable = top_def.create_cable()\nout4_cable['EDIF.identifier'] = 'out_OBUF_4_'\nout4 = out4_cable.create_wire()\nout4.connect_pin(get_pin(lut, 'I4'))\nout4.connect_pin(get_pin(ff, 'Q'))\nout4.connect_pin(get_pin(myOBUF, 'I'))\n\nlut_out_cable = top_def.create_cable()\nlut_out_cable['EDIF.original_identifier'] = 'out[4]_i_1_n_0'\nlut_out_cable['EDIF.identifier'] = 'out_4__i_1_n_0'\nlut_out = lut_out_cable.create_wire()\nlut_out.connect_pin(get_pin(lut, 'O'))\nlut_out.connect_pin(get_pin(ff, 'D'))\n\nclk.connect_pin(get_pin(ff, 'C'))\nenable.connect_pin(get_pin(ff, 'CE'))\nrst.connect_pin(get_pin(ff, 'CLR'))\n\nout_port = next(x for x in top_def.ports if x['EDIF.identifier'] == 'out')\nport_pin = out_port.create_pin()\nout_port['EDIF.original_identifier'] = 'out[4:0]'\nout_cable = top_def.create_cable()\nout_cable['EDIF.original_identifier'] = 'out[4]'\nout_cable['EDIF.identifier'] = 'out_4_'\nout = out_cable.create_wire()\n\nout.connect_pin(get_pin(myOBUF, 'O'))\nold_wire = out\nfor pin in out_port.pins:\n    temp = pin.wire\n    if temp is not None:\n        temp.disconnect_pin(pin)\n    old_wire.connect_pin(pin)\n    if temp is not None:\n        old_wire = temp\n        \nprint()\nprint(\"The counter is now a five bit counter.\")"
      ]
    }
  ],
  "metadata": {
    "kernelspec": {
      "display_name": "Python 3",
      "language": "python",
      "name": "python3"
    },
    "language_info": {
      "codemirror_mode": {
        "name": "ipython",
        "version": 3
      },
      "file_extension": ".py",
      "mimetype": "text/x-python",
      "name": "python",
      "nbconvert_exporter": "python",
      "pygments_lexer": "ipython3",
      "version": "3.7.2"
    }
  },
  "nbformat": 4,
  "nbformat_minor": 0
}