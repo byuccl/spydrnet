{
  "cells": [
    {
      "cell_type": "code",
      "execution_count": null,
      "metadata": {
        "collapsed": false
      },
      "outputs": [],
      "source": [
        "%matplotlib inline"
      ]
    },
    {
      "cell_type": "markdown",
      "metadata": {},
      "source": [
        "\n# Traversal and Statistics of a Netlist\n\n\nTraverse a netlist and collect statistics on the netlist.\n"
      ]
    },
    {
      "cell_type": "code",
      "execution_count": null,
      "metadata": {
        "collapsed": false
      },
      "outputs": [],
      "source": [
        "import spydrnet as sdn\n\n\nir = sdn.load_example_netlist_by_name(\"fourBitCounter\")\n\nprint(\"Netlist stats\")\nprint(\"Top instance:\", ir.top_instance['EDIF.identifier'])\nprint(str(len(ir.libraries)) + \" libraies detected\")\nfor library in ir.libraries:\n    print(\"Library name:\", library['EDIF.identifier'])\n    print(\"\\t\", str(len(library.definitions)), \"definitions detected\")\n    for definition in library.definitions:\n        print(\"\\tDefinition name:\", definition['EDIF.identifier'])\n        print(\"\\t\\t\", \"Defintion used\", str(len(definition.children)), \"times\")\n        print(\"\\t\\t\", str(len(definition.ports)), \"ports detected\")\n        for port in definition.ports:\n            print(\"\\t\\t\\tPort name:\", port['EDIF.identifier'])\n            if port.direction is 0:\n                print(\"\\t\\t\\t\\tPort Direction: UNDEFINED\")\n            if port.direction is 1:\n                print(\"\\t\\t\\t\\tPort Direction: INOUT\")\n            if port.direction is 1:\n                print(\"\\t\\t\\t\\tPort Direction: IN\")\n            if port.direction is 1:\n                print(\"\\t\\t\\t\\tPort Direction: OUT\")\n            print(\"\\t\\t\\t\\tPort length:\", str(len(port.pins)))\n        print(\"\\t\\t\", str(len(definition.children)), \"children detected\")\n        for child in definition.children:\n            print(\"\\t\\t\\tChild name:\", child['EDIF.identifier'])\n            print(\"\\t\\t\\t\\tReferenced Definition:\", child.reference['EDIF.identifier'])\n        print(\"\\t\\t\", str(len(definition.cables)), \"cables detected\")\n        for cable in definition.cables:\n            print(\"\\t\\t\\tCable Name\", cable['EDIF.identifier'])\n            print(\"\\t\\t\\t\\tNumber of wires:\", len(cable.wires))"
      ]
    }
  ],
  "metadata": {
    "kernelspec": {
      "display_name": "Python 3",
      "language": "python",
      "name": "python3"
    },
    "language_info": {
      "codemirror_mode": {
        "name": "ipython",
        "version": 3
      },
      "file_extension": ".py",
      "mimetype": "text/x-python",
      "name": "python",
      "nbconvert_exporter": "python",
      "pygments_lexer": "ipython3",
      "version": "3.7.2"
    }
  },
  "nbformat": 4,
  "nbformat_minor": 0
}