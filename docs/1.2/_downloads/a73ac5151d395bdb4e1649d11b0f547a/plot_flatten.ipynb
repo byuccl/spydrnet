{
  "cells": [
    {
      "cell_type": "code",
      "execution_count": null,
      "metadata": {
        "collapsed": false
      },
      "outputs": [],
      "source": [
        "%matplotlib inline"
      ]
    },
    {
      "cell_type": "markdown",
      "metadata": {},
      "source": [
        "\n# Flattens a netlist\n\n\nRemove hierarchy from a netlist.\n"
      ]
    },
    {
      "cell_type": "code",
      "execution_count": null,
      "metadata": {
        "collapsed": false
      },
      "outputs": [],
      "source": [
        "import spydrnet as sdn\n\n\n# Check if given instance is a black box\n# instance: std.Instance to check\n# Return True if instance is a black box\n# (defined by no listed cables or child within child's reference), else return False\ndef is_black_box(instance):\n    definition = instance.reference\n    if len(definition.cables) is not 0 or len(definition.children) is not 0:\n        return False\n    return True\n\n\n# Creates a copy of a instance\n# parent_instance: The instance that contains the instance be copy (used to keep hierarchical naming)\n# instance: The original instance to make the copy of\n# new_instance: The instance that will be the copy\n# Returns: None\ndef copy_instance(parent_instance, instance, new_instance):\n    # Copy all the data from instance into new_instance\n    for key, value in instance.data.items():\n        new_instance[key] = value\n    # Change new_instance EDIF.identifier to represent its hierarchical name\n    new_instance['EDIF.identifier'] = parent_instance['EDIF.identifier'] + '_' + new_instance['EDIF.identifier']\n    # Determine if parent_instance and instance have EDIF.original_identifier in it data\n    # Uses EDIF.original_identifier if available, else used EDIF.identifier to generate\n    # EDIF.original_identifier for new_instance\n    if 'EDIF.original_identifier' in parent_instance:\n        if 'EDIF.original_identifier' in instance:\n            new_instance['EDIF.original_identifier'] = parent_instance['EDIF.original_identifier'] + '/' \\\n                                                       + instance['EDIF.original_identifier']\n        else:\n            new_instance['EDIF.original_identifier'] = parent_instance['EDIF.original_identifier'] + '/' \\\n                                                       + instance['EDIF.identifier']\n    else:\n        if 'EDIF.original_identifier' in instance:\n            new_instance['EDIF.original_identifier'] = parent_instance['EDIF.identifier'] + '/' \\\n                                                       + instance['EDIF.original_identifier']\n        else:\n            new_instance['EDIF.original_identifier'] = parent_instance['EDIF.identifier'] + '/' \\\n                                                       + instance['EDIF.identifier']\n    # Have new_instance reference the same definition as instance\n    new_instance.reference = instance.reference\n\n\n# Removes a newly created cable in favor of using the cable that connected to the outside of the instance\n# new_cable: Cable that was connecting the new pins instance's parent\n# old_cable: Cable that was connecting the old pins in instance\n# instance: The instance that is being flatten\n# Return: None\ndef use_outside_cable(new_cable, old_cable, instance):\n    wire = None\n    # Need to find the wire that connects to the outside of the port that old_cable does\n    # Check each pin that old_cable is connected to to find the inside pin for the instance\n    for pin in old_cable.wires[0].pins:\n        if pin in instance.pins:\n            # Get the wire that connects to the outer pin that corresponds to the found inner pin\n            wire = instance.pins[pin].wire\n            break\n    # Loop through each wire in new_cable\n    for new_wire in new_cable.wires:\n        # Loop through is pin the wire connects to\n        for pin in new_wire.pins:\n            # Disconnect the new_wire from the pin and connect wire to that pin instead\n            new_wire.disconnect_pin(pin)\n            wire.connect_pin(pin)\n    # Removes new_cable from the definition that holds it\n    new_cable.definition.remove_cable(new_cable)\n\n\n# Remove instances that have been flatten\n# instance: std.Instance to be removed\n# Returns None\ndef clean_up(instance):\n    # Loop through each outside pin and disconnect it from its wire\n    for pin in instance.pins.values():\n        pin.wire.disconnect_pin(pin)\n    # Remove instances from its parent definition\n    instance.parent.remove_child(instance)\n\n\n# Recursively flatten a given definition\n# definition: std.Definition to flatten\n# top_definition: Bool saying the given definition is the top definition of the IR\n# Returns: list of created instances\ndef flatten_definition(definition, top_definition=False):\n    # Create a copy of the list of children\n    children = definition.children.copy()\n    created = list()\n    # Loop through each pre-existing child of the definition\n    for child in children:\n        leaf_grandchildren = list()\n        child_reference = child.reference\n        # Create a copy of the list of the children for the current child reference\n        grandchildren = child_reference.children.copy()\n        map = dict()\n        # Check if progress information should be printed\n        if top_definition and not is_black_box(child):\n            print(\"Need to move cells from\", child['EDIF.identifier'], \"that references\", child.reference['EDIF.identifier'])\n        # Loop through each grandchild of definition\n        for grandchild in grandchildren:\n            if not is_black_box(grandchild):\n                print(\"Need to move cells from\", grandchild['EDIF.identifier'], \"that references\", grandchild.reference['EDIF.identifier'])\n                # Flatten any children if they contain non_leaf grandchildren\n                # Keep track of grandchildren that are leaf nodes\n                leaf_grandchildren.extend(flatten_definition(child.reference))\n                print(\"Finished moving cells from\", grandchild['EDIF.identifier'])\n            else:\n                # Keep track of grandchildren that are leaf nodes\n                leaf_grandchildren.append(grandchild)\n        # Loop though each grandchild that is also a leaf including newly created grandchildren\n        for grandchild in leaf_grandchildren:\n            # Create a new child inside of definition\n            new_instance = definition.create_child()\n            # Copy data from the grandchild into the new instance\n            copy_instance(child, grandchild, new_instance)\n            # Create a key, value relationship between grandchild and new_instance\n            map[grandchild] = new_instance\n            # Add the new_instances to the list of created instances\n            created.append(new_instance)\n        # Create a list of the original cables that the child has\n        cables = child_reference.cables.copy()\n        for cable in cables:\n            name_cable = True\n            new_cable = definition.create_cable()\n            for wire in cable.wires:\n                new_wire = new_cable.create_wire()\n                for pin in wire.pins:\n                    # If the pin is connected to a port of the child, we should use an outside cable instead\n                    if isinstance(pin, sdn.InnerPin):\n                        name_cable = False\n                        continue\n                    # Connect the new wire to pins on new instances that correspond pins on the original instances\n                    new_wire.connect_pin(map[pin.instance].pins[pin.inner_pin])\n            # Check if we should name the cable or should use the outside cable\n            if name_cable:\n                new_cable['EDIF.identifier'] = child['EDIF.identifier'] + '_' + cable['EDIF.identifier']\n            else:\n                use_outside_cable(new_cable, cable, child)\n        # Remove any original children that is not a leaf\n        if not is_black_box(child):\n            clean_up(child)\n        # Check if progress information should be printed\n        if top_definition and not is_black_box(child):\n            print(\"Finished moving cells from\", child['EDIF.identifier'])\n    return created\n\n\n\nexample_name1 = \"unique_challenge\"\nexample_name2 = \"three_layer_hierarchy\"\nexample_name3 = \"unique_different_modules\"\nexample_name = example_name1\nir = sdn.load_example_netlist_by_name(example_name)\ntop_def = ir.top_instance.reference\nflatten_definition(top_def, top_definition=True)\n\nimport tempfile\nimport os\nwith tempfile.TemporaryDirectory() as td:\n    file_name = example_name + '_flat.edf'\n    sdn.compose(os.path.join(td, file_name), ir)\n\n# sdn.composers.compose(\"test.edf\", ir)\nprint()"
      ]
    }
  ],
  "metadata": {
    "kernelspec": {
      "display_name": "Python 3",
      "language": "python",
      "name": "python3"
    },
    "language_info": {
      "codemirror_mode": {
        "name": "ipython",
        "version": 3
      },
      "file_extension": ".py",
      "mimetype": "text/x-python",
      "name": "python",
      "nbconvert_exporter": "python",
      "pygments_lexer": "ipython3",
      "version": "3.7.2"
    }
  },
  "nbformat": 4,
  "nbformat_minor": 0
}