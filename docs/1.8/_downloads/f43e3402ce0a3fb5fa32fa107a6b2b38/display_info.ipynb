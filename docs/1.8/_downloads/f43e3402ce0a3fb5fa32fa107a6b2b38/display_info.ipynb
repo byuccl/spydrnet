{
  "cells": [
    {
      "cell_type": "code",
      "execution_count": null,
      "metadata": {
        "collapsed": false
      },
      "outputs": [],
      "source": [
        "%matplotlib inline"
      ]
    },
    {
      "cell_type": "markdown",
      "metadata": {},
      "source": [
        "\n# Display Netlist Information Functions\n\nSome example functions that can be run to display information in a netlist:\n    1) print the hierarchy in a netlist\n    2) print each library with its definitions in a netlist\n    3) print wire connections between ports in a netlist\n    4) print the number of times each primitive is instanced\nNote: because the hierarchy function uses recursion, the maximum recursion depth may be exceeded if used for large designs\n\n| For an even simpler display of netlist information, try using these functions with the Minimal Script example.  \n\n| Also, JensRestemeier (not affiliated with BYU CCL) created a tool to generate images of netlists. See his `github repository <https://github.com/JensRestemeier/EdifTests>`_.\n"
      ]
    },
    {
      "cell_type": "code",
      "execution_count": null,
      "metadata": {
        "collapsed": false
      },
      "outputs": [],
      "source": [
        "import spydrnet as sdn\n\n#print the hierarchy of a netlist\ndef hierarchy(current_instance,indentation=\"\"):\n    print(indentation,current_instance.name,\" --instance of\",current_instance.reference.name,\"--\")\n    for child in current_instance.reference.children:\n        hierarchy(child,indentation+\"     \")\n\n#print a list of all libraries and definitions in a netlist\ndef libraries_definitions(my_netlist):\n    for library in my_netlist.libraries:\n        definitions = list(definition.name for definition in library.definitions)\n        print(\"DEFINITIONS IN '\",library.name,\"':\",definitions)\n\n#print the connections in a netlist\ndef print_connections(current_netlist):\n    print(\"CONNECTIONS:\")\n    for instance in current_netlist.get_instances(): \n        print(\"Instance name:\",instance.name)\n        for pin in instance.pins:\n            IN = \"EXTERNAL\"\n            OUT = \"EXTERNAL\"        \n            for pin in pin.wire.pins:\n                instance = list(instance.name for instance in pin.get_instances())\n                for port in pin.get_ports():\n                    #for each pin, get the associated port and check the direction\n                    if port.direction is sdn.IN:\n                        if IN is \"EXTERNAL\":\n                            IN = port.name + \" of \" + str(instance)\n                        else:\n                            IN = IN + \", \" + port.name + \" of \" + str(instance)\n                    elif port.direction is sdn.OUT:\n                        if OUT is \"EXTERNAL\":\n                            OUT = port.name + \" of \" + str(instance)\n                        else:\n                            OUT = OUT + \", \" + port.name + \" of \" + str(instance)\n            print(\"\\t\",OUT,\"---->\",IN)\n\n#print the number of times each primitive is instanced\ndef instance_count(current_netlist):\n    print(\"Number of times each primitive is instanced:\")\n    primitives_library = next(netlist.get_libraries(\"hdi_primitives\"),None)\n    for primitive in primitives_library.get_definitions():\n        count = 0\n        for instance in current_netlist.get_instances():\n            if primitive.name == instance.reference.name:\n                count += 1\n        print('\\t',primitive.name,\": \",count)\n\n\n\nnetlist = sdn.load_example_netlist_by_name(\"fourBitCounter\")\n\nprint(\"HIERARCHY:\")\nhierarchy(netlist.top_instance)\nlibraries_definitions(netlist)\nprint_connections(netlist)\ninstance_count(netlist)"
      ]
    }
  ],
  "metadata": {
    "kernelspec": {
      "display_name": "Python 3",
      "language": "python",
      "name": "python3"
    },
    "language_info": {
      "codemirror_mode": {
        "name": "ipython",
        "version": 3
      },
      "file_extension": ".py",
      "mimetype": "text/x-python",
      "name": "python",
      "nbconvert_exporter": "python",
      "pygments_lexer": "ipython3",
      "version": "3.8.5"
    }
  },
  "nbformat": 4,
  "nbformat_minor": 0
}