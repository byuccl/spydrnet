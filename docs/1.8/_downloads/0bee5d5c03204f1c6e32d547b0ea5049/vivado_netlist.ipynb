{
  "cells": [
    {
      "cell_type": "code",
      "execution_count": null,
      "metadata": {
        "collapsed": false
      },
      "outputs": [],
      "source": [
        "%matplotlib inline"
      ]
    },
    {
      "cell_type": "markdown",
      "metadata": {},
      "source": [
        "\n# Create/View a Netlist with Vivado\n\nThis example walks through the process of creating and viewing a netlist within Vivado.\n\nThe first step is to choose what kind of project you want to create. If you already have a netlist, choose \"Post-synthesis\" project. Within a \"Post-synthesis\" project, you can add a netlist source such as an EDIF file. Look in the ``spydrnet/support_files/`` folder to see netlists that you can add to a \"post-synthesis\" project to view for yourself. If you only have hardware description file(s) (Verliog, SystemVerilog, VHDL, etc.), then create an RTL project. \"RTL\" means `register-transfer level <https://en.wikipedia.org/wiki/Register-transfer_level>`_, which essentially tells Vivado that you will be adding your own hardware description language sources such as Verilog or VHDL for the design. This example shows how to run synthesis on an RTL project and open the netlist afterwards, but opening a netlist from a \"Post-synthesis\" project is done in practically the same way.\n\n<img src=\"file://../../figures/vivado_screenshot1.*\" align=\"center\">\n\nThis example is of a simple 3-input AND gate module. Here, a SystemVerilog source was created, and the logic was implemented inside the .sv file. Below is a view of Vivado after the source has been created/added, as well as the source code.\n\n<img src=\"file://../../figures/vivado_screenshot2.*\" align=\"center\">\n\n.. code-block:: sv\n\n    module AND_gate(\n        input wire logic a, b, c,\n        output logic q\n    );\n    \n        and(q, a, b, c);\n    \n    endmodule\n\n\nAfter adding/creating any source files for your project, go to the \"Flow Navigator\" window on the left hand side of the screen, and click on \"Run Synthesis.\" If you're in a post-synthesis project, you don't need to run synthesis, since you should already have a netlist ready to go.\n\n<img src=\"file://../../figures/vivado_screenshot3.*\" align=\"center\">\n\nOnce synthesis has been run, you are ready to open up the netlist schematic in the synthesized design. Expand the \"Open Synthesized Design\" tab under the \"Synthesis\" section, and click on the \"Schematic\" option. If you're in a post-synthesis project, the \"Open Synthesized Design\" tab should be under the \"Netlist Analysis\" section of the \"Flow Navigator\" window. By default, it will open up a view for the device, but to see the netlist, you should see that another tab was opened in the main window called \"Schematic.\" \n\n<img src=\"file://../../figures/vivado_screenshot4.*\" align=\"center\">\n\nNow you can see the netlist for yourself! This gives you a way to easily visualize what the netlist is, and to be able to interact with it.\n\n<img src=\"file://../../figures/vivado_screenshot5.*\" align=\"center\">\n\nTo further interact with the netlist schematic, try clicking on the \"Netlist\" tab next to the \"Schematic\" window. A menu should popup with all the \"Nets\" and \"Leaf Cells.\" Expand the menu and click on each of the lines. As you do so, you'll see each element be highlighted in the \"Schematic\" viewer.\n\n<img src=\"file://../../figures/vivado_screenshot6.*\" align=\"center\">\n"
      ]
    },
    {
      "cell_type": "code",
      "execution_count": null,
      "metadata": {
        "collapsed": false
      },
      "outputs": [],
      "source": [
        ""
      ]
    }
  ],
  "metadata": {
    "kernelspec": {
      "display_name": "Python 3",
      "language": "python",
      "name": "python3"
    },
    "language_info": {
      "codemirror_mode": {
        "name": "ipython",
        "version": 3
      },
      "file_extension": ".py",
      "mimetype": "text/x-python",
      "name": "python",
      "nbconvert_exporter": "python",
      "pygments_lexer": "ipython3",
      "version": "3.8.5"
    }
  },
  "nbformat": 4,
  "nbformat_minor": 0
}