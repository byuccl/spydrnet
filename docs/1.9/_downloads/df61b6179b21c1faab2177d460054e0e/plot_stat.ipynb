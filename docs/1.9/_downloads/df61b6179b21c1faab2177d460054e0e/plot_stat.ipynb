{
  "cells": [
    {
      "cell_type": "code",
      "execution_count": null,
      "metadata": {
        "collapsed": false
      },
      "outputs": [],
      "source": [
        "%matplotlib inline"
      ]
    },
    {
      "cell_type": "markdown",
      "metadata": {},
      "source": [
        "\n# Traversal and Statistics of a Netlist\n\nTraverse a netlist and collect statistics on the netlist.\n\n"
      ]
    },
    {
      "cell_type": "code",
      "execution_count": null,
      "metadata": {
        "collapsed": false
      },
      "outputs": [],
      "source": [
        "import spydrnet as sdn\n\n# Loads the example\nir = sdn.load_example_netlist_by_name(\"fourBitCounter\")\n\nprint(\"Netlist stats\")\nprint(\"Top instance:\", ir.top_instance['EDIF.identifier'])\nprint(str(len(ir.libraries)) + \" libraries detected\")\n# Loop through each library in a design\nfor library in ir.libraries:\n    # Gets the name of the current library and reports number of definitions\n    print(\"Library name:\", library['EDIF.identifier'])\n    print(\"\\t\", str(len(library.definitions)), \"definitions detected\")\n    # Loop through each definition in current library\n    for definition in library.definitions:\n        # Gets the name of the current definition and how many times its been used\n        print(\"\\tDefinition name:\", definition['EDIF.identifier'])\n        print(\"\\t\\t\", \"Defintion used\", str(len(definition.references)), \"times\")\n        # Gets the number of Ports in definition\n        print(\"\\t\\t\", str(len(definition.ports)), \"ports detected\")\n        # Loop through each port for the current definition\n        for port in definition.ports:\n            # Gets the name of the port\n            print(\"\\t\\t\\tPort name:\", port['EDIF.identifier'])\n            # Gets the direction of the port\n            if port.direction is sdn.UNDEFINED:\n                print(\"\\t\\t\\t\\tPort Direction: UNDEFINED\")\n            elif port.direction is sdn.INOUT:\n                print(\"\\t\\t\\t\\tPort Direction: INOUT\")\n            elif port.direction is sdn.IN:\n                print(\"\\t\\t\\t\\tPort Direction: IN\")\n            elif port.direction is sdn.OUT:\n                print(\"\\t\\t\\t\\tPort Direction: OUT\")\n            # Gets the length (number of pins) of the port\n            print(\"\\t\\t\\t\\tPort length:\", str(len(port.pins)))\n        # Get the number of children within the definition\n        print(\"\\t\\t\", str(len(definition.children)), \"children detected\")\n        # Loops through each child\n        for child in definition.children:\n            # Gets the child's name and its referenced definition\n            print(\"\\t\\t\\tChild name:\", child['EDIF.identifier'])\n            print(\"\\t\\t\\t\\tReferenced Definition:\", child.reference['EDIF.identifier'])\n        # Gets the number of cables within the definition\n        print(\"\\t\\t\", str(len(definition.cables)), \"cables detected\")\n        for cable in definition.cables:\n            # Gets the name of the cable and the number of wires it contains\n            print(\"\\t\\t\\tCable Name\", cable['EDIF.identifier'])\n            print(\"\\t\\t\\t\\tNumber of wires:\", len(cable.wires))"
      ]
    }
  ],
  "metadata": {
    "kernelspec": {
      "display_name": "Python 3",
      "language": "python",
      "name": "python3"
    },
    "language_info": {
      "codemirror_mode": {
        "name": "ipython",
        "version": 3
      },
      "file_extension": ".py",
      "mimetype": "text/x-python",
      "name": "python",
      "nbconvert_exporter": "python",
      "pygments_lexer": "ipython3",
      "version": "3.6.9"
    }
  },
  "nbformat": 4,
  "nbformat_minor": 0
}